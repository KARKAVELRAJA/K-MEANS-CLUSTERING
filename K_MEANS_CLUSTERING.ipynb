{
  "nbformat": 4,
  "nbformat_minor": 0,
  "metadata": {
    "colab": {
      "name": "K-MEANS CLUSTERING.ipynb",
      "provenance": []
    },
    "kernelspec": {
      "name": "python3",
      "display_name": "Python 3"
    },
    "language_info": {
      "name": "python"
    }
  },
  "cells": [
    {
      "cell_type": "markdown",
      "source": [
        "# **K-MEANS CLUSTERING**\n",
        "\n",
        "![k-means-clustering-algorithm-in-machine-learning.png](data:image/png;base64,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)"
      ],
      "metadata": {
        "id": "6BTTSDu2UUGc"
      }
    },
    {
      "cell_type": "markdown",
      "source": [
        "## ***IMPORTING LIBRARIES***"
      ],
      "metadata": {
        "id": "UpI_B3QdUub0"
      }
    },
    {
      "cell_type": "code",
      "execution_count": 1,
      "metadata": {
        "id": "Ya_wfqsUUQWp"
      },
      "outputs": [],
      "source": [
        "import numpy as np\n",
        "import pandas as pd"
      ]
    },
    {
      "cell_type": "markdown",
      "source": [
        "## ***LOADING THE DATASET***"
      ],
      "metadata": {
        "id": "BRE-THgiU9zC"
      }
    },
    {
      "cell_type": "code",
      "source": [
        "data = pd.read_csv(\"segmented_customers.csv\")"
      ],
      "metadata": {
        "id": "De7cVsrQU8oo"
      },
      "execution_count": 2,
      "outputs": []
    },
    {
      "cell_type": "markdown",
      "source": [
        "## ***SUMMARIZING THE DATASET***"
      ],
      "metadata": {
        "id": "AbjvqqitVUXb"
      }
    },
    {
      "cell_type": "code",
      "source": [
        "print(data.shape)\n",
        "print(data.describe())\n",
        "print(data.head())"
      ],
      "metadata": {
        "colab": {
          "base_uri": "https://localhost:8080/"
        },
        "id": "k_u9sRVjVL6K",
        "outputId": "3ae7af64-8e04-49fa-f34b-24b9941f74e1"
      },
      "execution_count": 4,
      "outputs": [
        {
          "output_type": "stream",
          "name": "stdout",
          "text": [
            "(200, 6)\n",
            "       CustomerID         Age  ...  Spending Score (1-100)    cluster\n",
            "count  200.000000  200.000000  ...              200.000000  200.00000\n",
            "mean   100.500000   38.850000  ...               50.200000    2.24500\n",
            "std     57.879185   13.969007  ...               25.823522    1.81423\n",
            "min      1.000000   18.000000  ...                1.000000    0.00000\n",
            "25%     50.750000   28.750000  ...               34.750000    1.00000\n",
            "50%    100.500000   36.000000  ...               50.000000    2.00000\n",
            "75%    150.250000   49.000000  ...               73.000000    4.00000\n",
            "max    200.000000   70.000000  ...               99.000000    5.00000\n",
            "\n",
            "[8 rows x 5 columns]\n",
            "   CustomerID  Gender  Age  Annual Income (k$)  Spending Score (1-100)  cluster\n",
            "0           1    Male   19                  15                      39        4\n",
            "1           2    Male   21                  15                      81        3\n",
            "2           3  Female   20                  16                       6        4\n",
            "3           4  Female   23                  16                      77        3\n",
            "4           5  Female   31                  17                      40        4\n"
          ]
        }
      ]
    },
    {
      "cell_type": "markdown",
      "source": [
        "## ***SEGREGATING AND ZIPPING THE DATASET***"
      ],
      "metadata": {
        "id": "XREwM_JZVroF"
      }
    },
    {
      "cell_type": "code",
      "source": [
        "income = data[\"Annual Income (k$)\"].values\n",
        "spent  = data[\"Spending Score (1-100)\"].values\n",
        "\n",
        "x      = np.array(list(zip(income,spent)))\n",
        "x"
      ],
      "metadata": {
        "colab": {
          "base_uri": "https://localhost:8080/"
        },
        "id": "dff05ibsVf3x",
        "outputId": "4bea59bb-5d88-4387-85a2-503478785e75"
      },
      "execution_count": 6,
      "outputs": [
        {
          "output_type": "execute_result",
          "data": {
            "text/plain": [
              "array([[ 15,  39],\n",
              "       [ 15,  81],\n",
              "       [ 16,   6],\n",
              "       [ 16,  77],\n",
              "       [ 17,  40],\n",
              "       [ 17,  76],\n",
              "       [ 18,   6],\n",
              "       [ 18,  94],\n",
              "       [ 19,   3],\n",
              "       [ 19,  72],\n",
              "       [ 19,  14],\n",
              "       [ 19,  99],\n",
              "       [ 20,  15],\n",
              "       [ 20,  77],\n",
              "       [ 20,  13],\n",
              "       [ 20,  79],\n",
              "       [ 21,  35],\n",
              "       [ 21,  66],\n",
              "       [ 23,  29],\n",
              "       [ 23,  98],\n",
              "       [ 24,  35],\n",
              "       [ 24,  73],\n",
              "       [ 25,   5],\n",
              "       [ 25,  73],\n",
              "       [ 28,  14],\n",
              "       [ 28,  82],\n",
              "       [ 28,  32],\n",
              "       [ 28,  61],\n",
              "       [ 29,  31],\n",
              "       [ 29,  87],\n",
              "       [ 30,   4],\n",
              "       [ 30,  73],\n",
              "       [ 33,   4],\n",
              "       [ 33,  92],\n",
              "       [ 33,  14],\n",
              "       [ 33,  81],\n",
              "       [ 34,  17],\n",
              "       [ 34,  73],\n",
              "       [ 37,  26],\n",
              "       [ 37,  75],\n",
              "       [ 38,  35],\n",
              "       [ 38,  92],\n",
              "       [ 39,  36],\n",
              "       [ 39,  61],\n",
              "       [ 39,  28],\n",
              "       [ 39,  65],\n",
              "       [ 40,  55],\n",
              "       [ 40,  47],\n",
              "       [ 40,  42],\n",
              "       [ 40,  42],\n",
              "       [ 42,  52],\n",
              "       [ 42,  60],\n",
              "       [ 43,  54],\n",
              "       [ 43,  60],\n",
              "       [ 43,  45],\n",
              "       [ 43,  41],\n",
              "       [ 44,  50],\n",
              "       [ 44,  46],\n",
              "       [ 46,  51],\n",
              "       [ 46,  46],\n",
              "       [ 46,  56],\n",
              "       [ 46,  55],\n",
              "       [ 47,  52],\n",
              "       [ 47,  59],\n",
              "       [ 48,  51],\n",
              "       [ 48,  59],\n",
              "       [ 48,  50],\n",
              "       [ 48,  48],\n",
              "       [ 48,  59],\n",
              "       [ 48,  47],\n",
              "       [ 49,  55],\n",
              "       [ 49,  42],\n",
              "       [ 50,  49],\n",
              "       [ 50,  56],\n",
              "       [ 54,  47],\n",
              "       [ 54,  54],\n",
              "       [ 54,  53],\n",
              "       [ 54,  48],\n",
              "       [ 54,  52],\n",
              "       [ 54,  42],\n",
              "       [ 54,  51],\n",
              "       [ 54,  55],\n",
              "       [ 54,  41],\n",
              "       [ 54,  44],\n",
              "       [ 54,  57],\n",
              "       [ 54,  46],\n",
              "       [ 57,  58],\n",
              "       [ 57,  55],\n",
              "       [ 58,  60],\n",
              "       [ 58,  46],\n",
              "       [ 59,  55],\n",
              "       [ 59,  41],\n",
              "       [ 60,  49],\n",
              "       [ 60,  40],\n",
              "       [ 60,  42],\n",
              "       [ 60,  52],\n",
              "       [ 60,  47],\n",
              "       [ 60,  50],\n",
              "       [ 61,  42],\n",
              "       [ 61,  49],\n",
              "       [ 62,  41],\n",
              "       [ 62,  48],\n",
              "       [ 62,  59],\n",
              "       [ 62,  55],\n",
              "       [ 62,  56],\n",
              "       [ 62,  42],\n",
              "       [ 63,  50],\n",
              "       [ 63,  46],\n",
              "       [ 63,  43],\n",
              "       [ 63,  48],\n",
              "       [ 63,  52],\n",
              "       [ 63,  54],\n",
              "       [ 64,  42],\n",
              "       [ 64,  46],\n",
              "       [ 65,  48],\n",
              "       [ 65,  50],\n",
              "       [ 65,  43],\n",
              "       [ 65,  59],\n",
              "       [ 67,  43],\n",
              "       [ 67,  57],\n",
              "       [ 67,  56],\n",
              "       [ 67,  40],\n",
              "       [ 69,  58],\n",
              "       [ 69,  91],\n",
              "       [ 70,  29],\n",
              "       [ 70,  77],\n",
              "       [ 71,  35],\n",
              "       [ 71,  95],\n",
              "       [ 71,  11],\n",
              "       [ 71,  75],\n",
              "       [ 71,   9],\n",
              "       [ 71,  75],\n",
              "       [ 72,  34],\n",
              "       [ 72,  71],\n",
              "       [ 73,   5],\n",
              "       [ 73,  88],\n",
              "       [ 73,   7],\n",
              "       [ 73,  73],\n",
              "       [ 74,  10],\n",
              "       [ 74,  72],\n",
              "       [ 75,   5],\n",
              "       [ 75,  93],\n",
              "       [ 76,  40],\n",
              "       [ 76,  87],\n",
              "       [ 77,  12],\n",
              "       [ 77,  97],\n",
              "       [ 77,  36],\n",
              "       [ 77,  74],\n",
              "       [ 78,  22],\n",
              "       [ 78,  90],\n",
              "       [ 78,  17],\n",
              "       [ 78,  88],\n",
              "       [ 78,  20],\n",
              "       [ 78,  76],\n",
              "       [ 78,  16],\n",
              "       [ 78,  89],\n",
              "       [ 78,   1],\n",
              "       [ 78,  78],\n",
              "       [ 78,   1],\n",
              "       [ 78,  73],\n",
              "       [ 79,  35],\n",
              "       [ 79,  83],\n",
              "       [ 81,   5],\n",
              "       [ 81,  93],\n",
              "       [ 85,  26],\n",
              "       [ 85,  75],\n",
              "       [ 86,  20],\n",
              "       [ 86,  95],\n",
              "       [ 87,  27],\n",
              "       [ 87,  63],\n",
              "       [ 87,  13],\n",
              "       [ 87,  75],\n",
              "       [ 87,  10],\n",
              "       [ 87,  92],\n",
              "       [ 88,  13],\n",
              "       [ 88,  86],\n",
              "       [ 88,  15],\n",
              "       [ 88,  69],\n",
              "       [ 93,  14],\n",
              "       [ 93,  90],\n",
              "       [ 97,  32],\n",
              "       [ 97,  86],\n",
              "       [ 98,  15],\n",
              "       [ 98,  88],\n",
              "       [ 99,  39],\n",
              "       [ 99,  97],\n",
              "       [101,  24],\n",
              "       [101,  68],\n",
              "       [103,  17],\n",
              "       [103,  85],\n",
              "       [103,  23],\n",
              "       [103,  69],\n",
              "       [113,   8],\n",
              "       [113,  91],\n",
              "       [120,  16],\n",
              "       [120,  79],\n",
              "       [126,  28],\n",
              "       [126,  74],\n",
              "       [137,  18],\n",
              "       [137,  83]])"
            ]
          },
          "metadata": {},
          "execution_count": 6
        }
      ]
    },
    {
      "cell_type": "markdown",
      "source": [
        "## ***FINDING THE BEST K-VALUE***"
      ],
      "metadata": {
        "id": "GZ7cYCX7WU7H"
      }
    },
    {
      "cell_type": "code",
      "source": [
        "from sklearn.cluster import KMeans\n",
        "\n",
        "wcss = []\n",
        "\n",
        "for i in range(1,11):\n",
        "  model = KMeans(n_clusters = i)\n",
        "  model.fit(x)\n",
        "  wcss.append(model.inertia_)\n",
        "\n",
        "import matplotlib.pyplot as plt\n",
        "\n",
        "plt.xlabel(\"K-VALUES\")\n",
        "plt.ylabel(\"WCSS\")\n",
        "plt.plot(range(1,11),wcss,marker=\"*\")\n"
      ],
      "metadata": {
        "colab": {
          "base_uri": "https://localhost:8080/",
          "height": 296
        },
        "id": "nmFh73YUV68J",
        "outputId": "6aab3eb5-3573-4105-d16d-f55becc30640"
      },
      "execution_count": 42,
      "outputs": [
        {
          "output_type": "execute_result",
          "data": {
            "text/plain": [
              "[<matplotlib.lines.Line2D at 0x7f5877a47990>]"
            ]
          },
          "metadata": {},
          "execution_count": 42
        },
        {
          "output_type": "display_data",
          "data": {
            "image/png": "[encoded data removed]",
            "text/plain": [
              "<Figure size 432x288 with 1 Axes>"
            ]
          },
          "metadata": {
            "needs_background": "light"
          }
        }
      ]
    },
    {
      "cell_type": "markdown",
      "source": [
        "## ***TRAINING THE DATASET AND PREDICTING THE RESULT USING THE BEST K-VALUE***"
      ],
      "metadata": {
        "id": "gOPVpvhGYIqq"
      }
    },
    {
      "cell_type": "code",
      "source": [
        "from sklearn.cluster import KMeans\n",
        "\n",
        "Kmeans_Model  = KMeans(n_clusters=5)\n",
        "\n",
        "y = Kmeans_Model.fit_predict(x)"
      ],
      "metadata": {
        "id": "LLOhAkYmXyIU"
      },
      "execution_count": 18,
      "outputs": []
    },
    {
      "cell_type": "code",
      "source": [
        "y"
      ],
      "metadata": {
        "colab": {
          "base_uri": "https://localhost:8080/"
        },
        "id": "hAFnR2jXYmtP",
        "outputId": "de70e671-6182-4bd7-e6e5-e167af596075"
      },
      "execution_count": 19,
      "outputs": [
        {
          "output_type": "execute_result",
          "data": {
            "text/plain": [
              "array([0, 2, 0, 2, 0, 2, 0, 2, 0, 2, 0, 2, 0, 2, 0, 2, 0, 2, 0, 2, 0, 2,\n",
              "       0, 2, 0, 2, 0, 2, 0, 2, 0, 2, 0, 2, 0, 2, 0, 2, 0, 2, 0, 2, 0, 4,\n",
              "       0, 2, 4, 4, 4, 4, 4, 4, 4, 4, 4, 4, 4, 4, 4, 4, 4, 4, 4, 4, 4, 4,\n",
              "       4, 4, 4, 4, 4, 4, 4, 4, 4, 4, 4, 4, 4, 4, 4, 4, 4, 4, 4, 4, 4, 4,\n",
              "       4, 4, 4, 4, 4, 4, 4, 4, 4, 4, 4, 4, 4, 4, 4, 4, 4, 4, 4, 4, 4, 4,\n",
              "       4, 4, 4, 4, 4, 4, 4, 4, 4, 4, 4, 4, 4, 1, 3, 1, 4, 1, 3, 1, 3, 1,\n",
              "       4, 1, 3, 1, 3, 1, 3, 1, 3, 1, 4, 1, 3, 1, 3, 1, 3, 1, 3, 1, 3, 1,\n",
              "       3, 1, 3, 1, 3, 1, 3, 1, 3, 1, 3, 1, 3, 1, 3, 1, 3, 1, 3, 1, 3, 1,\n",
              "       3, 1, 3, 1, 3, 1, 3, 1, 3, 1, 3, 1, 3, 1, 3, 1, 3, 1, 3, 1, 3, 1,\n",
              "       3, 1], dtype=int32)"
            ]
          },
          "metadata": {},
          "execution_count": 19
        }
      ]
    },
    {
      "cell_type": "markdown",
      "source": [
        "## ***VISUALIZING THE CLUSTERS***"
      ],
      "metadata": {
        "id": "UlXa2URlcbJh"
      }
    },
    {
      "cell_type": "code",
      "source": [
        "plt.scatter(x[y==0,0],x[y==0,1],s=100,label=\"CLUSTER1\")\n",
        "plt.scatter(x[y==1,0],x[y==1,1],s=100,label=\"CLUSTER2\")\n",
        "plt.scatter(x[y==2,0],x[y==2,1],s=100,label=\"CLUSTER3\")\n",
        "plt.scatter(x[y==3,0],x[y==3,1],s=100,label=\"CLUSTER4\")\n",
        "plt.scatter(x[y==4,0],x[y==4,1],s=100,label=\"CLUSTER5\")\n",
        "plt.scatter(Kmeans_Model.cluster_centers_[:,0],Kmeans_Model.cluster_centers_[:,1],s=300,label=\"CENTROID\",color=\"yellow\")\n",
        "plt.title(\"CLUSTERS OF CUSTOMERS\")\n",
        "plt.xlabel('Annual Income (k$)')\n",
        "plt.ylabel('Spending Score (1-100)')\n",
        "plt.legend()"
      ],
      "metadata": {
        "colab": {
          "base_uri": "https://localhost:8080/",
          "height": 312
        },
        "id": "maXagTogZexL",
        "outputId": "ec548182-8563-405e-a2ed-44b9c64ad34b"
      },
      "execution_count": 41,
      "outputs": [
        {
          "output_type": "execute_result",
          "data": {
            "text/plain": [
              "<matplotlib.legend.Legend at 0x7f5877b3e090>"
            ]
          },
          "metadata": {},
          "execution_count": 41
        },
        {
          "output_type": "display_data",
          "data": {
            "image/png": "[encoded data removed]",
            "text/plain": [
              "<Figure size 432x288 with 1 Axes>"
            ]
          },
          "metadata": {
            "needs_background": "light"
          }
        }
      ]
    }
  ]
}